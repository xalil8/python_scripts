{
 "cells": [
  {
   "cell_type": "code",
   "execution_count": null,
   "metadata": {},
   "outputs": [],
   "source": [
    "#to connect google drive from colab or other notebooks \n",
    "from google.colab import drive\n",
    "drive.mount('/content/drive')"
   ]
  },
  {
   "cell_type": "code",
   "execution_count": null,
   "metadata": {},
   "outputs": [],
   "source": [
    "#roboflow mounting \n",
    "\n",
    "!pip install roboflow\n",
    "\n",
    "from roboflow import Roboflow\n",
    "rf = Roboflow(api_key=\"secretkey\")\n",
    "project = rf.workspace(\"halil-ozcan\").project(\"logo_det\")\n",
    "dataset = project.version(2).download(\"yolov5\")"
   ]
  },
  {
   "cell_type": "code",
   "execution_count": null,
   "metadata": {},
   "outputs": [],
   "source": [
    "#yolo codes \n",
    "\n",
    "!git clone https://github.com/ultralytics/yolov5\n",
    "%cd yolov5\n",
    "%pip install -qr requirements.txt\n",
    "\n",
    "import torch\n",
    "from IPython.display import Image, clear_output\n",
    "\n"
   ]
  },
  {
   "cell_type": "code",
   "execution_count": null,
   "metadata": {},
   "outputs": [],
   "source": [
    "#to remove file from cloud or colab \n",
    "!rm -rf /content/sample_data  "
   ]
  },
  {
   "cell_type": "code",
   "execution_count": null,
   "metadata": {},
   "outputs": [],
   "source": [
    "#to copy file from notebook to drive or etc\n",
    "\n",
    "!cp -r /content/yolov5/runs/train/exp9 /content/drive/MyDrive/DIATTACK/logo_train_results/train1280/\n"
   ]
  },
  {
   "cell_type": "code",
   "execution_count": null,
   "metadata": {},
   "outputs": [],
   "source": [
    "#moving files\n",
    "!mv /content/drive/MyDrive/DIATTACK/best.pt /content/yolov5"
   ]
  },
  {
   "cell_type": "code",
   "execution_count": null,
   "metadata": {},
   "outputs": [],
   "source": [
    "#to start training example  \n",
    "# batch size =-1 means max batch size that machine can take \n",
    "#--cache ram provide to use max ram machine can take \n",
    "# its transfer learning from xalil weights\n",
    "\n",
    "!python train.py --img 640 --batch-size -1 --epochs 100 \\\n",
    "--data /content/yolov5/logo_det-2/data.yaml --cache ram --weights xalil.pt "
   ]
  },
  {
   "cell_type": "code",
   "execution_count": null,
   "metadata": {},
   "outputs": [],
   "source": [
    "#to dowloand file s\n",
    "from google.colab import files\n",
    "\n",
    "files.download(\"/content/yolov5/runs/train/exp3\")"
   ]
  },
  {
   "cell_type": "code",
   "execution_count": null,
   "metadata": {},
   "outputs": [],
   "source": [
    "#unzip file on colab or zip \n",
    "\n",
    "!unzip -q  /content/gdrive/My Drive/dataset.zip  -d /content/xxx"
   ]
  }
 ],
 "metadata": {
  "kernelspec": {
   "display_name": "Python 3.9.2 64-bit ('3.9.2')",
   "language": "python",
   "name": "python3"
  },
  "language_info": {
   "codemirror_mode": {
    "name": "ipython",
    "version": 3
   },
   "file_extension": ".py",
   "mimetype": "text/x-python",
   "name": "python",
   "nbconvert_exporter": "python",
   "pygments_lexer": "ipython3",
   "version": "3.9.2"
  },
  "orig_nbformat": 4,
  "vscode": {
   "interpreter": {
    "hash": "4b1cbbcf371c96a3c6aa28c8e2ecc0414854be759ec86948a30069ecd55ac203"
   }
  }
 },
 "nbformat": 4,
 "nbformat_minor": 2
}
